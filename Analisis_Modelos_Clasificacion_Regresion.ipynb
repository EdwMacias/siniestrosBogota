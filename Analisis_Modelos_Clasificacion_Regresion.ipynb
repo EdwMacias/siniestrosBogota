{
 "cells": [
  {
   "cell_type": "code",
   "execution_count": null,
   "id": "dee25cb3",
   "metadata": {},
   "outputs": [],
   "source": [
    "\n",
    "# 📦 Importaciones generales\n",
    "import pandas as pd\n",
    "import numpy as np\n",
    "import matplotlib.pyplot as plt\n",
    "import seaborn as sns\n",
    "\n",
    "from sklearn.metrics import (\n",
    "    accuracy_score, f1_score, classification_report,\n",
    "    ConfusionMatrixDisplay, mean_absolute_error,\n",
    "    mean_squared_error, r2_score\n",
    ")\n"
   ]
  },
  {
   "cell_type": "markdown",
   "id": "0ff30829",
   "metadata": {},
   "source": [
    "## 🌳 Árbol de Decisión - Clasificación"
   ]
  },
  {
   "cell_type": "code",
   "execution_count": null,
   "id": "20aa7743",
   "metadata": {},
   "outputs": [],
   "source": [
    "\n",
    "# Entrenamiento del modelo Árbol de Decisión\n",
    "from sklearn.tree import DecisionTreeClassifier\n",
    "from sklearn.model_selection import train_test_split\n",
    "\n",
    "# Simulación de datos (reemplazar por los reales en tu entorno)\n",
    "X_tree_train, X_tree_test, y_tree_train, y_tree_test = train_test_split(X, y, test_size=0.3, random_state=42)\n",
    "modelo_tree = DecisionTreeClassifier(random_state=42)\n",
    "modelo_tree.fit(X_tree_train, y_tree_train)\n",
    "y_tree_pred = modelo_tree.predict(X_tree_test)\n"
   ]
  },
  {
   "cell_type": "code",
   "execution_count": null,
   "id": "ceb09439",
   "metadata": {},
   "outputs": [],
   "source": [
    "\n",
    "# Visualización de métricas globales\n",
    "metricas_tree = {\n",
    "    \"Modelo\": \"Árbol de Decisión\",\n",
    "    \"Accuracy\": accuracy_score(y_tree_test, y_tree_pred),\n",
    "    \"F1 Macro\": f1_score(y_tree_test, y_tree_pred, average=\"macro\"),\n",
    "    \"F1 Weighted\": f1_score(y_tree_test, y_tree_pred, average=\"weighted\")\n",
    "}\n",
    "df_tree = pd.DataFrame([metricas_tree]).set_index(\"Modelo\")\n",
    "df_tree.plot(kind=\"bar\", figsize=(8,5), ylim=(0,1))\n",
    "plt.title(\"Métricas globales - Árbol de Decisión\")\n",
    "plt.xticks(rotation=0)\n",
    "plt.grid(axis='y')\n",
    "plt.tight_layout()\n",
    "plt.show()\n"
   ]
  },
  {
   "cell_type": "code",
   "execution_count": null,
   "id": "a5279757",
   "metadata": {},
   "outputs": [],
   "source": [
    "\n",
    "# Matriz de Confusión y métricas por clase\n",
    "ConfusionMatrixDisplay.from_estimator(\n",
    "    modelo_tree, X_tree_test, y_tree_test,\n",
    "    display_labels=[\"Solo Daños\", \"Con Heridos\", \"Con Muertos\"],\n",
    "    cmap=\"Blues\", values_format=\"d\"\n",
    ")\n",
    "plt.title(\"Matriz de Confusión - Árbol de Decisión\")\n",
    "plt.show()\n",
    "\n",
    "report_tree = classification_report(y_tree_test, y_tree_pred, output_dict=True)\n",
    "df_report_tree = pd.DataFrame(report_tree).transpose().iloc[:-3]\n",
    "df_report_tree[[\"precision\", \"recall\", \"f1-score\"]].plot(kind=\"bar\", figsize=(10, 6), ylim=(0,1))\n",
    "plt.title(\"Métricas por clase - Árbol de Decisión\")\n",
    "plt.grid(axis='y')\n",
    "plt.tight_layout()\n",
    "plt.show()\n"
   ]
  },
  {
   "cell_type": "code",
   "execution_count": null,
   "id": "30eb83d9",
   "metadata": {},
   "outputs": [],
   "source": [
    "\n",
    "# Importancia de variables\n",
    "plt.figure(figsize=(10, 6))\n",
    "plt.barh(X.columns, modelo_tree.feature_importances_)\n",
    "plt.title(\"Importancia de Variables - Árbol de Decisión\")\n",
    "plt.xlabel(\"Importancia\")\n",
    "plt.tight_layout()\n",
    "plt.show()\n"
   ]
  },
  {
   "cell_type": "markdown",
   "id": "3db88e97",
   "metadata": {},
   "source": [
    "## 🌲 Random Forest - Clasificación"
   ]
  },
  {
   "cell_type": "code",
   "execution_count": null,
   "id": "ab6c8fc5",
   "metadata": {},
   "outputs": [],
   "source": [
    "\n",
    "from sklearn.ensemble import RandomForestClassifier\n",
    "\n",
    "# Entrenamiento con mejora class_weight\n",
    "modelo_rf = RandomForestClassifier(\n",
    "    class_weight='balanced',\n",
    "    n_estimators=200,\n",
    "    max_depth=20,\n",
    "    random_state=42\n",
    ")\n",
    "modelo_rf.fit(X_tree_train, y_tree_train)  # usamos mismos datos para comparación\n",
    "y_rf_pred = modelo_rf.predict(X_tree_test)\n"
   ]
  },
  {
   "cell_type": "code",
   "execution_count": null,
   "id": "8920abab",
   "metadata": {},
   "outputs": [],
   "source": [
    "\n",
    "# Métricas globales\n",
    "metricas_rf = {\n",
    "    \"Modelo\": \"Random Forest\",\n",
    "    \"Accuracy\": accuracy_score(y_tree_test, y_rf_pred),\n",
    "    \"F1 Macro\": f1_score(y_tree_test, y_rf_pred, average=\"macro\"),\n",
    "    \"F1 Weighted\": f1_score(y_tree_test, y_rf_pred, average=\"weighted\")\n",
    "}\n",
    "df_rf = pd.DataFrame([metricas_rf]).set_index(\"Modelo\")\n",
    "df_rf.plot(kind=\"bar\", figsize=(8,5), ylim=(0,1))\n",
    "plt.title(\"Métricas globales - Random Forest\")\n",
    "plt.xticks(rotation=0)\n",
    "plt.grid(axis='y')\n",
    "plt.tight_layout()\n",
    "plt.show()\n"
   ]
  },
  {
   "cell_type": "code",
   "execution_count": null,
   "id": "614b3c23",
   "metadata": {},
   "outputs": [],
   "source": [
    "\n",
    "# Matriz de confusión y métricas por clase\n",
    "ConfusionMatrixDisplay.from_estimator(\n",
    "    modelo_rf, X_tree_test, y_tree_test,\n",
    "    display_labels=[\"Solo Daños\", \"Con Heridos\", \"Con Muertos\"],\n",
    "    cmap=\"Blues\", values_format=\"d\"\n",
    ")\n",
    "plt.title(\"Matriz de Confusión - Random Forest\")\n",
    "plt.show()\n",
    "\n",
    "report_rf = classification_report(y_tree_test, y_rf_pred, output_dict=True)\n",
    "df_report_rf = pd.DataFrame(report_rf).transpose().iloc[:-3]\n",
    "df_report_rf[[\"precision\", \"recall\", \"f1-score\"]].plot(kind=\"bar\", figsize=(10, 6), ylim=(0,1))\n",
    "plt.title(\"Métricas por clase - Random Forest\")\n",
    "plt.grid(axis='y')\n",
    "plt.tight_layout()\n",
    "plt.show()\n"
   ]
  },
  {
   "cell_type": "code",
   "execution_count": null,
   "id": "87b5af4f",
   "metadata": {},
   "outputs": [],
   "source": [
    "\n",
    "# Importancia de variables\n",
    "plt.figure(figsize=(10, 6))\n",
    "plt.barh(X.columns, modelo_rf.feature_importances_)\n",
    "plt.title(\"Importancia de Variables - Random Forest\")\n",
    "plt.xlabel(\"Importancia\")\n",
    "plt.tight_layout()\n",
    "plt.show()\n"
   ]
  },
  {
   "cell_type": "markdown",
   "id": "155d14c4",
   "metadata": {},
   "source": [
    "## 📈 Árbol de Regresión"
   ]
  },
  {
   "cell_type": "code",
   "execution_count": null,
   "id": "90521e83",
   "metadata": {},
   "outputs": [],
   "source": [
    "\n",
    "from sklearn.tree import DecisionTreeRegressor\n",
    "\n",
    "# Simulación de datos (reemplaza por X_reg, y_reg)\n",
    "X_reg_train, X_reg_test, y_reg_train, y_reg_test = train_test_split(X, y, test_size=0.3, random_state=42)\n",
    "modelo_reg = DecisionTreeRegressor(random_state=42)\n",
    "modelo_reg.fit(X_reg_train, y_reg_train)\n",
    "y_reg_pred = modelo_reg.predict(X_reg_test)\n"
   ]
  },
  {
   "cell_type": "code",
   "execution_count": null,
   "id": "68b32c1a",
   "metadata": {},
   "outputs": [],
   "source": [
    "\n",
    "# Métricas de regresión\n",
    "mae = mean_absolute_error(y_reg_test, y_reg_pred)\n",
    "mse = mean_squared_error(y_reg_test, y_reg_pred)\n",
    "rmse = np.sqrt(mse)\n",
    "r2 = r2_score(y_reg_test, y_reg_pred)\n",
    "\n",
    "print(f\"MAE: {mae:.2f}\")\n",
    "print(f\"MSE: {mse:.2f}\")\n",
    "print(f\"RMSE: {rmse:.2f}\")\n",
    "print(f\"R2 Score: {r2:.2f}\")\n"
   ]
  },
  {
   "cell_type": "code",
   "execution_count": null,
   "id": "7fc1b62a",
   "metadata": {},
   "outputs": [],
   "source": [
    "\n",
    "# Gráfico de residuos\n",
    "residuos = y_reg_test - y_reg_pred\n",
    "plt.figure(figsize=(8,5))\n",
    "sns.scatterplot(x=y_reg_pred, y=residuos)\n",
    "plt.axhline(0, color='red', linestyle='--')\n",
    "plt.title(\"Gráfico de residuos - Árbol de Regresión\")\n",
    "plt.xlabel(\"Predicción\")\n",
    "plt.ylabel(\"Error\")\n",
    "plt.grid()\n",
    "plt.tight_layout()\n",
    "plt.show()\n"
   ]
  }
 ],
 "metadata": {},
 "nbformat": 4,
 "nbformat_minor": 5
}
