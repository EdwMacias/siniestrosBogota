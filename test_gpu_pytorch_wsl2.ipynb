{
 "cells": [
  {
   "cell_type": "markdown",
   "id": "beeedd04",
   "metadata": {},
   "source": [
    "# Prueba de Uso de GPU con PyTorch en WSL2"
   ]
  },
  {
   "cell_type": "code",
   "execution_count": 1,
   "id": "4eb26c73",
   "metadata": {},
   "outputs": [
    {
     "name": "stdout",
     "output_type": "stream",
     "text": [
      "¿GPU disponible?: True\n",
      "Nombre de la GPU: NVIDIA GeForce RTX 4070\n"
     ]
    }
   ],
   "source": [
    "\n",
    "import torch\n",
    "\n",
    "# Verificar si CUDA está disponible\n",
    "print(\"¿GPU disponible?:\", torch.cuda.is_available())\n",
    "\n",
    "# Obtener el nombre de la GPU si está disponible\n",
    "if torch.cuda.is_available():\n",
    "    print(\"Nombre de la GPU:\", torch.cuda.get_device_name(0))\n",
    "else:\n",
    "    print(\"No se detectó GPU.\")\n"
   ]
  },
  {
   "cell_type": "code",
   "execution_count": 2,
   "id": "d378b6eb",
   "metadata": {},
   "outputs": [
    {
     "name": "stdout",
     "output_type": "stream",
     "text": [
      "Tensor en: cuda\n",
      "tensor([[0.4390, 0.9476, 0.5198],\n",
      "        [0.7105, 0.7539, 0.7535],\n",
      "        [0.4194, 0.1183, 0.4349]], device='cuda:0')\n"
     ]
    }
   ],
   "source": [
    "\n",
    "# Crear un tensor y pasarlo a la GPU (si está disponible)\n",
    "device = torch.device(\"cuda\" if torch.cuda.is_available() else \"cpu\")\n",
    "x = torch.rand(3, 3).to(device)\n",
    "print(\"Tensor en:\", device)\n",
    "print(x)\n"
   ]
  },
  {
   "cell_type": "code",
   "execution_count": 3,
   "id": "4c658eac",
   "metadata": {},
   "outputs": [
    {
     "name": "stdout",
     "output_type": "stream",
     "text": [
      "Epoch 1, Loss: 2.5666\n",
      "Epoch 2, Loss: 2.3997\n",
      "Epoch 3, Loss: 2.2411\n"
     ]
    }
   ],
   "source": [
    "\n",
    "# Simulación de entrenamiento mínimo con red dummy en GPU\n",
    "import torch.nn as nn\n",
    "import torch.optim as optim\n",
    "\n",
    "class DummyNet(nn.Module):\n",
    "    def __init__(self):\n",
    "        super().__init__()\n",
    "        self.fc = nn.Linear(10, 1)\n",
    "\n",
    "    def forward(self, x):\n",
    "        return self.fc(x)\n",
    "\n",
    "# Inicializar modelo y datos en el dispositivo\n",
    "model = DummyNet().to(device)\n",
    "criterion = nn.MSELoss()\n",
    "optimizer = optim.Adam(model.parameters(), lr=0.01)\n",
    "\n",
    "# Datos falsos\n",
    "inputs = torch.randn(5, 10).to(device)\n",
    "targets = torch.randn(5, 1).to(device)\n",
    "\n",
    "# Entrenamiento simple\n",
    "for epoch in range(3):\n",
    "    optimizer.zero_grad()\n",
    "    outputs = model(inputs)\n",
    "    loss = criterion(outputs, targets)\n",
    "    loss.backward()\n",
    "    optimizer.step()\n",
    "    print(f\"Epoch {epoch+1}, Loss: {loss.item():.4f}\")\n"
   ]
  }
 ],
 "metadata": {
  "kernelspec": {
   "display_name": ".venv",
   "language": "python",
   "name": "python3"
  },
  "language_info": {
   "codemirror_mode": {
    "name": "ipython",
    "version": 3
   },
   "file_extension": ".py",
   "mimetype": "text/x-python",
   "name": "python",
   "nbconvert_exporter": "python",
   "pygments_lexer": "ipython3",
   "version": "3.12.3"
  }
 },
 "nbformat": 4,
 "nbformat_minor": 5
}
